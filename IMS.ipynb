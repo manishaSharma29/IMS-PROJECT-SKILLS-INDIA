{
  "nbformat": 4,
  "nbformat_minor": 0,
  "metadata": {
    "colab": {
      "name": "IMS ",
      "provenance": []
    },
    "kernelspec": {
      "name": "python3",
      "display_name": "Python 3"
    },
    "language_info": {
      "name": "python"
    }
  },
  "cells": [
    {
      "cell_type": "code",
      "metadata": {
        "id": "cUwRlXxh6Tak"
      },
      "source": [
        "  records = {\"1001\": {\"name\": \"milk\", \"pr\": 45.0, \"qn\": 2}, \"1002\": {\"name\": \"Milk Cake\", \"pr\": 800, \"qn\": 100}, \"1003\": {\"name\": \"Drink\", \"pr\": 85, \"qn\": 100}, \"1004\": {\"name\": \"Candy\", \"pr\": 5, \"qn\": 1000}, \"1005\": {\"name\": \"Pen\", \"pr\": 20, \"qn\": 100}, \"1006\": {\"name\": \"Phone\", \"pr\": 50000, \"qn\": 10}, \"1007\": {\"name\": \"Mic\", \"pr\": 1500, \"qn\": 0}, \"1008\": {\"name\": \"Case\", \"pr\": 599, \"qn\": 5}, \"1009\": {\"name\": \"Keyboard\", \"pr\": 1999, \"qn\": 10}, \"1010\": {\"name\": \"Apple\", \"pr\": 45, \"qn\": 7}, \"1011\": {\"name\": \"Orange\", \"pr\": 56.89, \"qn\": 8}, \"1012\": {\"name\": \"Toy\", \"pr\": 67.0, \"qn\": 700}, \"1013\": {\"name\": \"Cloth\", \"pr\": 45.0, \"qn\": 0}, \"1014\": {\"name\": \"Poster\", \"pr\": 24.0, \"qn\": 56}, \"1015\": {\"name\": \"cream\", \"pr\": 43.0, \"qn\": 12}, \"1016\": {\"name\": \"milkshake\", \"pr\": 28.0, \"qn\": 47}}\n"
      ],
      "execution_count": 2,
      "outputs": []
    },
    {
      "cell_type": "code",
      "metadata": {
        "id": "azjk-UPP6iux"
      },
      "source": [
        " sales = {\"1\": {\"name\": \"Choco Cake\", \"qn\": 26, \"pr\": 100}, \"2\": {\"name\": \"Choco Cake\", \"pr\": 100, \"qn\": 25}, \"3\": {\"name\": \"Milk\", \"pr\": 56.78, \"qn\": 1}, \"4\": {\"name\": \"Toy\", \"pr\": 67.0, \"qn\": 89}, \"5\": {\"name\": \"Cloth\", \"pr\": 45.0, \"qn\": 89}, \"6\": {\"name\": \"Milk\", \"pr\": 56.78, \"qn\": 89}, \"7\": {\"name\": \"Milk\", \"pr\": 78.0, \"qn\": 2}, \"8\": {\"name\": \"Milk\", \"pr\": 78.0, \"qn\": 2}, \"9\": {\"name\": \"Milk\", \"pr\": 78.0, \"qn\": 2}, \"10\": {\"name\": \"milkshake\", \"pr\": 28.0, \"qn\": 23}}"
      ],
      "execution_count": 20,
      "outputs": []
    },
    {
      "cell_type": "code",
      "metadata": {
        "id": "HgGEq6QO67Vj"
      },
      "source": [
        "import json"
      ],
      "execution_count": 4,
      "outputs": []
    },
    {
      "cell_type": "code",
      "metadata": {
        "id": "1u4IQDse7B4h"
      },
      "source": [
        "js = json.dumps(records)"
      ],
      "execution_count": 5,
      "outputs": []
    },
    {
      "cell_type": "code",
      "metadata": {
        "colab": {
          "base_uri": "https://localhost:8080/",
          "height": 119
        },
        "id": "DlaoaO-g7HE0",
        "outputId": "28641a16-17b1-4d21-bae0-290db6fc24f4"
      },
      "source": [
        "js"
      ],
      "execution_count": 6,
      "outputs": [
        {
          "output_type": "execute_result",
          "data": {
            "application/vnd.google.colaboratory.intrinsic+json": {
              "type": "string"
            },
            "text/plain": [
              "'{\"1001\": {\"name\": \"milk\", \"pr\": 45.0, \"qn\": 2}, \"1002\": {\"name\": \"Milk Cake\", \"pr\": 800, \"qn\": 100}, \"1003\": {\"name\": \"Drink\", \"pr\": 85, \"qn\": 100}, \"1004\": {\"name\": \"Candy\", \"pr\": 5, \"qn\": 1000}, \"1005\": {\"name\": \"Pen\", \"pr\": 20, \"qn\": 100}, \"1006\": {\"name\": \"Phone\", \"pr\": 50000, \"qn\": 10}, \"1007\": {\"name\": \"Mic\", \"pr\": 1500, \"qn\": 0}, \"1008\": {\"name\": \"Case\", \"pr\": 599, \"qn\": 5}, \"1009\": {\"name\": \"Keyboard\", \"pr\": 1999, \"qn\": 10}, \"1010\": {\"name\": \"Apple\", \"pr\": 45, \"qn\": 7}, \"1011\": {\"name\": \"Orange\", \"pr\": 56.89, \"qn\": 8}, \"1012\": {\"name\": \"Toy\", \"pr\": 67.0, \"qn\": 700}, \"1013\": {\"name\": \"Cloth\", \"pr\": 45.0, \"qn\": 0}, \"1014\": {\"name\": \"Poster\", \"pr\": 24.0, \"qn\": 56}, \"1015\": {\"name\": \"cream\", \"pr\": 43.0, \"qn\": 12}, \"1016\": {\"name\": \"milkshake\", \"pr\": 28.0, \"qn\": 47}}'"
            ]
          },
          "metadata": {},
          "execution_count": 6
        }
      ]
    },
    {
      "cell_type": "code",
      "metadata": {
        "colab": {
          "base_uri": "https://localhost:8080/"
        },
        "id": "u4TdjyRm7IVQ",
        "outputId": "d9b75140-45c5-42af-a2d7-f9b0b1d9809a"
      },
      "source": [
        "records"
      ],
      "execution_count": 7,
      "outputs": [
        {
          "output_type": "execute_result",
          "data": {
            "text/plain": [
              "{'1001': {'name': 'milk', 'pr': 45.0, 'qn': 2},\n",
              " '1002': {'name': 'Milk Cake', 'pr': 800, 'qn': 100},\n",
              " '1003': {'name': 'Drink', 'pr': 85, 'qn': 100},\n",
              " '1004': {'name': 'Candy', 'pr': 5, 'qn': 1000},\n",
              " '1005': {'name': 'Pen', 'pr': 20, 'qn': 100},\n",
              " '1006': {'name': 'Phone', 'pr': 50000, 'qn': 10},\n",
              " '1007': {'name': 'Mic', 'pr': 1500, 'qn': 0},\n",
              " '1008': {'name': 'Case', 'pr': 599, 'qn': 5},\n",
              " '1009': {'name': 'Keyboard', 'pr': 1999, 'qn': 10},\n",
              " '1010': {'name': 'Apple', 'pr': 45, 'qn': 7},\n",
              " '1011': {'name': 'Orange', 'pr': 56.89, 'qn': 8},\n",
              " '1012': {'name': 'Toy', 'pr': 67.0, 'qn': 700},\n",
              " '1013': {'name': 'Cloth', 'pr': 45.0, 'qn': 0},\n",
              " '1014': {'name': 'Poster', 'pr': 24.0, 'qn': 56},\n",
              " '1015': {'name': 'cream', 'pr': 43.0, 'qn': 12},\n",
              " '1016': {'name': 'milkshake', 'pr': 28.0, 'qn': 47}}"
            ]
          },
          "metadata": {},
          "execution_count": 7
        }
      ]
    },
    {
      "cell_type": "code",
      "metadata": {
        "id": "r4iuN7_-7NvG"
      },
      "source": [
        " fd = open(\"records.json\", 'w')\n",
        " fd.write(js)\n",
        " fd.close()"
      ],
      "execution_count": 8,
      "outputs": []
    },
    {
      "cell_type": "code",
      "metadata": {
        "id": "A3wjwSFW7cFT"
      },
      "source": [
        "fd = open(\"records.json\", 'r')\n",
        "txt = fd.read()\n",
        "fd.close()"
      ],
      "execution_count": 10,
      "outputs": []
    },
    {
      "cell_type": "code",
      "metadata": {
        "colab": {
          "base_uri": "https://localhost:8080/",
          "height": 119
        },
        "id": "v9xfxLos7lsQ",
        "outputId": "c627a778-8856-432d-d718-a6dafb7f4c94"
      },
      "source": [
        " txt "
      ],
      "execution_count": 11,
      "outputs": [
        {
          "output_type": "execute_result",
          "data": {
            "application/vnd.google.colaboratory.intrinsic+json": {
              "type": "string"
            },
            "text/plain": [
              "'{\"1001\": {\"name\": \"milk\", \"pr\": 45.0, \"qn\": 2}, \"1002\": {\"name\": \"Milk Cake\", \"pr\": 800, \"qn\": 100}, \"1003\": {\"name\": \"Drink\", \"pr\": 85, \"qn\": 100}, \"1004\": {\"name\": \"Candy\", \"pr\": 5, \"qn\": 1000}, \"1005\": {\"name\": \"Pen\", \"pr\": 20, \"qn\": 100}, \"1006\": {\"name\": \"Phone\", \"pr\": 50000, \"qn\": 10}, \"1007\": {\"name\": \"Mic\", \"pr\": 1500, \"qn\": 0}, \"1008\": {\"name\": \"Case\", \"pr\": 599, \"qn\": 5}, \"1009\": {\"name\": \"Keyboard\", \"pr\": 1999, \"qn\": 10}, \"1010\": {\"name\": \"Apple\", \"pr\": 45, \"qn\": 7}, \"1011\": {\"name\": \"Orange\", \"pr\": 56.89, \"qn\": 8}, \"1012\": {\"name\": \"Toy\", \"pr\": 67.0, \"qn\": 700}, \"1013\": {\"name\": \"Cloth\", \"pr\": 45.0, \"qn\": 0}, \"1014\": {\"name\": \"Poster\", \"pr\": 24.0, \"qn\": 56}, \"1015\": {\"name\": \"cream\", \"pr\": 43.0, \"qn\": 12}, \"1016\": {\"name\": \"milkshake\", \"pr\": 28.0, \"qn\": 47}}'"
            ]
          },
          "metadata": {},
          "execution_count": 11
        }
      ]
    },
    {
      "cell_type": "code",
      "metadata": {
        "id": "Xos_qyI37rKu"
      },
      "source": [
        "records = json.loads(txt)"
      ],
      "execution_count": 12,
      "outputs": []
    },
    {
      "cell_type": "code",
      "metadata": {
        "colab": {
          "base_uri": "https://localhost:8080/"
        },
        "id": "tbCzSU327yuj",
        "outputId": "3e44fb65-d088-49d6-f291-695a45f160e3"
      },
      "source": [
        "records"
      ],
      "execution_count": 13,
      "outputs": [
        {
          "output_type": "execute_result",
          "data": {
            "text/plain": [
              "{'1001': {'name': 'milk', 'pr': 45.0, 'qn': 2},\n",
              " '1002': {'name': 'Milk Cake', 'pr': 800, 'qn': 100},\n",
              " '1003': {'name': 'Drink', 'pr': 85, 'qn': 100},\n",
              " '1004': {'name': 'Candy', 'pr': 5, 'qn': 1000},\n",
              " '1005': {'name': 'Pen', 'pr': 20, 'qn': 100},\n",
              " '1006': {'name': 'Phone', 'pr': 50000, 'qn': 10},\n",
              " '1007': {'name': 'Mic', 'pr': 1500, 'qn': 0},\n",
              " '1008': {'name': 'Case', 'pr': 599, 'qn': 5},\n",
              " '1009': {'name': 'Keyboard', 'pr': 1999, 'qn': 10},\n",
              " '1010': {'name': 'Apple', 'pr': 45, 'qn': 7},\n",
              " '1011': {'name': 'Orange', 'pr': 56.89, 'qn': 8},\n",
              " '1012': {'name': 'Toy', 'pr': 67.0, 'qn': 700},\n",
              " '1013': {'name': 'Cloth', 'pr': 45.0, 'qn': 0},\n",
              " '1014': {'name': 'Poster', 'pr': 24.0, 'qn': 56},\n",
              " '1015': {'name': 'cream', 'pr': 43.0, 'qn': 12},\n",
              " '1016': {'name': 'milkshake', 'pr': 28.0, 'qn': 47}}"
            ]
          },
          "metadata": {},
          "execution_count": 13
        }
      ]
    },
    {
      "cell_type": "code",
      "metadata": {
        "id": "TkUOjc629EDz"
      },
      "source": [
        "js = json.dumps(sales)"
      ],
      "execution_count": 21,
      "outputs": []
    },
    {
      "cell_type": "code",
      "metadata": {
        "colab": {
          "base_uri": "https://localhost:8080/",
          "height": 86
        },
        "id": "Egb-5pNT9L_0",
        "outputId": "3413ca91-4dae-400a-b68b-20c06d577d3f"
      },
      "source": [
        "js"
      ],
      "execution_count": 22,
      "outputs": [
        {
          "output_type": "execute_result",
          "data": {
            "application/vnd.google.colaboratory.intrinsic+json": {
              "type": "string"
            },
            "text/plain": [
              "'{\"1\": {\"name\": \"Choco Cake\", \"qn\": 26, \"pr\": 100}, \"2\": {\"name\": \"Choco Cake\", \"pr\": 100, \"qn\": 25}, \"3\": {\"name\": \"Milk\", \"pr\": 56.78, \"qn\": 1}, \"4\": {\"name\": \"Toy\", \"pr\": 67.0, \"qn\": 89}, \"5\": {\"name\": \"Cloth\", \"pr\": 45.0, \"qn\": 89}, \"6\": {\"name\": \"Milk\", \"pr\": 56.78, \"qn\": 89}, \"7\": {\"name\": \"Milk\", \"pr\": 78.0, \"qn\": 2}, \"8\": {\"name\": \"Milk\", \"pr\": 78.0, \"qn\": 2}, \"9\": {\"name\": \"Milk\", \"pr\": 78.0, \"qn\": 2}, \"10\": {\"name\": \"milkshake\", \"pr\": 28.0, \"qn\": 23}}'"
            ]
          },
          "metadata": {},
          "execution_count": 22
        }
      ]
    },
    {
      "cell_type": "code",
      "metadata": {
        "id": "7r77cYOy71OL"
      },
      "source": [
        "fd = open(\"sales.json\", 'w')\n",
        "fd.write(js)\n",
        "fd.close()"
      ],
      "execution_count": 23,
      "outputs": []
    },
    {
      "cell_type": "code",
      "metadata": {
        "id": "05zTuUGT8AJa"
      },
      "source": [
        "fd = open(\"sales.json\", 'r')\n",
        "txt = fd.read()\n",
        "fd.close()"
      ],
      "execution_count": 24,
      "outputs": []
    },
    {
      "cell_type": "code",
      "metadata": {
        "colab": {
          "base_uri": "https://localhost:8080/",
          "height": 86
        },
        "id": "b5Io1vef8JE5",
        "outputId": "35f43b30-a981-4828-ebc9-aed886b4e153"
      },
      "source": [
        "txt"
      ],
      "execution_count": 25,
      "outputs": [
        {
          "output_type": "execute_result",
          "data": {
            "application/vnd.google.colaboratory.intrinsic+json": {
              "type": "string"
            },
            "text/plain": [
              "'{\"1\": {\"name\": \"Choco Cake\", \"qn\": 26, \"pr\": 100}, \"2\": {\"name\": \"Choco Cake\", \"pr\": 100, \"qn\": 25}, \"3\": {\"name\": \"Milk\", \"pr\": 56.78, \"qn\": 1}, \"4\": {\"name\": \"Toy\", \"pr\": 67.0, \"qn\": 89}, \"5\": {\"name\": \"Cloth\", \"pr\": 45.0, \"qn\": 89}, \"6\": {\"name\": \"Milk\", \"pr\": 56.78, \"qn\": 89}, \"7\": {\"name\": \"Milk\", \"pr\": 78.0, \"qn\": 2}, \"8\": {\"name\": \"Milk\", \"pr\": 78.0, \"qn\": 2}, \"9\": {\"name\": \"Milk\", \"pr\": 78.0, \"qn\": 2}, \"10\": {\"name\": \"milkshake\", \"pr\": 28.0, \"qn\": 23}}'"
            ]
          },
          "metadata": {},
          "execution_count": 25
        }
      ]
    },
    {
      "cell_type": "code",
      "metadata": {
        "id": "m9MmnzGU8Lv_"
      },
      "source": [
        "sales = json.loads(txt)"
      ],
      "execution_count": 18,
      "outputs": []
    },
    {
      "cell_type": "code",
      "metadata": {
        "colab": {
          "base_uri": "https://localhost:8080/"
        },
        "id": "bw3OFSlq8UXZ",
        "outputId": "069e8dd2-03cf-4a35-c95a-affb8bda3f5f"
      },
      "source": [
        "sales"
      ],
      "execution_count": 26,
      "outputs": [
        {
          "output_type": "execute_result",
          "data": {
            "text/plain": [
              "{'1': {'name': 'Choco Cake', 'pr': 100, 'qn': 26},\n",
              " '10': {'name': 'milkshake', 'pr': 28.0, 'qn': 23},\n",
              " '2': {'name': 'Choco Cake', 'pr': 100, 'qn': 25},\n",
              " '3': {'name': 'Milk', 'pr': 56.78, 'qn': 1},\n",
              " '4': {'name': 'Toy', 'pr': 67.0, 'qn': 89},\n",
              " '5': {'name': 'Cloth', 'pr': 45.0, 'qn': 89},\n",
              " '6': {'name': 'Milk', 'pr': 56.78, 'qn': 89},\n",
              " '7': {'name': 'Milk', 'pr': 78.0, 'qn': 2},\n",
              " '8': {'name': 'Milk', 'pr': 78.0, 'qn': 2},\n",
              " '9': {'name': 'Milk', 'pr': 78.0, 'qn': 2}}"
            ]
          },
          "metadata": {},
          "execution_count": 26
        }
      ]
    },
    {
      "cell_type": "code",
      "metadata": {
        "id": "E4mi1Dky8VsB"
      },
      "source": [
        "def additem():\n",
        "        fd = open(\"records.json\",'r')\n",
        "        record_data = fd.read()\n",
        "        fd.close()\n",
        "        records= json.loads(record_data)\n",
        "        prod_id =input(\"Enter product id : \")\n",
        "        product_name = input(\"Enter name : \")\n",
        "        product_price = float(input(\"Enter price : \"))\n",
        "        product_qn = int(input(\"Enter quantity : \"))\n",
        "        records[prod_id] = {'name': product_name, 'pr': product_price, 'qn': product_qn}\n",
        "        data = json.dumps(records)\n",
        "        fd = open(\"records.json\",'w')\n",
        "        fd.write(data)\n",
        "        fd.close()\n",
        "        CHOICE = input('Enter y to continue or n to exit: ')\n",
        "        if CHOICE == 'y':\n",
        "            menuDisplay()\n",
        "        else:\n",
        "            exit()"
      ],
      "execution_count": 28,
      "outputs": []
    },
    {
      "cell_type": "code",
      "metadata": {
        "id": "0DuHthzJ9eTA"
      },
      "source": [
        "def purchase():\n",
        "        fd = open(\"records.json\",'r')\n",
        "        record_data = fd.read()\n",
        "        fd.close()\n",
        "        records= json.loads(record_data)\n",
        "        ui_prod  = input(\"Enter the product_Id: \")\n",
        "        ui_quant = int(input(\"Enter the quantity: \"))\n",
        "       \n",
        "        if(records[ui_prod]['qn']>=ui_quant):\n",
        "            print(\"Product: \", records[ui_prod]['name'])\n",
        "            print(\"Price: \", records[ui_prod]['pr'])\n",
        "            print(\"Billing Amount: \", records[ui_prod]['pr'] * ui_quant)\n",
        "            print(\"Please Visit Again \")\n",
        "            records[ui_prod]['qn'] = records[ui_prod]['qn'] - ui_quant\n",
        "\n",
        "            fd = open(\"records.json\",'w')\n",
        "            data = json.dumps(records)\n",
        "            fd.write(data)\n",
        "            fd.close()\n",
        "\n",
        "            sales_file = open(\"sales.json\",'r')\n",
        "            sales_data= sales_file.read()\n",
        "            sales_file.close()\n",
        "            record= json.loads(sales_data)\n",
        "            record[len(record)+1] = {'name':records[ui_prod]['name'], 'pr':records[ui_prod]['pr'], 'qn':ui_quant}\n",
        "           \n",
        "            sales_file = open(\"sales.json\",'w')\n",
        "            sales_data= json.dumps(record)\n",
        "            sales_file.write(sales_data)\n",
        "            sales_file.close()\n",
        "            CHOICE = input('Enter y to continue or n to exit: ')\n",
        "            if CHOICE == 'y':\n",
        "                menuDisplay()\n",
        "            else:\n",
        "                exit()\n",
        "        else:\n",
        "            print(\" Sorry! We have only \"+str(records[ui_prod]['qn'])+\" Products\")"
      ],
      "execution_count": 29,
      "outputs": []
    },
    {
      "cell_type": "code",
      "metadata": {
        "id": "tx_e-Ssz9xUo"
      },
      "source": [
        "def print_products():\n",
        "        fd = open(\"records.json\",'r')\n",
        "        record= fd.read()\n",
        "        records= json.loads(record)\n",
        "        print(\"*********** ALL PRODUCTS **************\")\n",
        "        print(\"Product Id\\t\" ,\"Product Name\\t\",\"Price\\t\",\"Quantity\\t\")\n",
        "        for i in records.keys():\n",
        "            print(i,\"\\t\",records[i]['name'],\"\\t\",records[i]['pr'],\"\\t\",records[i]['qn'],\"\\t\")\n",
        "        fd.close()\n",
        "        CHOICE = input('Enter y to continue or n to exit: ')\n",
        "        if CHOICE == 'y':\n",
        "            menuDisplay()\n",
        "        else:\n",
        "            exit()"
      ],
      "execution_count": 30,
      "outputs": []
    },
    {
      "cell_type": "code",
      "metadata": {
        "id": "cDaJfpB192Sy"
      },
      "source": [
        "def sales_products():\n",
        "        sales = open(\"sales.json\",'r')\n",
        "        data = sales.read()\n",
        "        records= json.loads(data)\n",
        "        print(\"************SOLD PRODUCTS***************\")\n",
        "        print(\"Product Id\\t\" ,\"Product Name\\t\",\"Price\\t\",\"Quantity\\t\")\n",
        "        for i in records.keys():\n",
        "             print(i,\"\\t\",records[i]['name'],\"\\t\",records[i]['pr'],\"\\t\",records[i]['qn'],\"\\t\")\n",
        "\n",
        "        sales.close()\n",
        "        CHOICE = input('Enter y to continue or n to exit: ')\n",
        "        if CHOICE == 'y':\n",
        "            menuDisplay()\n",
        "        else:\n",
        "            exit()"
      ],
      "execution_count": 31,
      "outputs": []
    },
    {
      "cell_type": "code",
      "metadata": {
        "id": "4Kj5oHeD95-o"
      },
      "source": [
        "def menuDisplay():\n",
        "    print('===============================')\n",
        "    print('= Inventory Management System =')\n",
        "    print('===============================')\n",
        "    print('(1) Add New Item')\n",
        "    print('(2) Selling Item')\n",
        "    print('(3) Print Inventory Report')\n",
        "    print('(4) Print Inventory Report')\n",
        "    print('(5) Quit')\n",
        "    CHOICE = int(input(\"Enter choice: \"))\n",
        "    menuSelection(CHOICE)\n",
        "    \n",
        "    \n",
        "def menuSelection(CHOICE):\n",
        "    if CHOICE == 1:\n",
        "        additem()\n",
        "    elif CHOICE == 2:\n",
        "        purchase()\n",
        "    elif CHOICE == 3:\n",
        "        print_products()\n",
        "    elif CHOICE == 4:\n",
        "        sales_products()\n",
        "    elif CHOICE == 5:\n",
        "        exit()\n",
        "    else:\n",
        "        print(\"Invalid Choice!\")"
      ],
      "execution_count": 32,
      "outputs": []
    },
    {
      "cell_type": "code",
      "metadata": {
        "colab": {
          "base_uri": "https://localhost:8080/"
        },
        "id": "Q7Nzp2Ew992q",
        "outputId": "ae200918-8c59-4fcb-b7af-b4e92db1574c"
      },
      "source": [
        "menuDisplay()"
      ],
      "execution_count": null,
      "outputs": [
        {
          "output_type": "stream",
          "name": "stdout",
          "text": [
            "===============================\n",
            "= Inventory Management System =\n",
            "===============================\n",
            "(1) Add New Item\n",
            "(2) Selling Item\n",
            "(3) Print Inventory Report\n",
            "(4) Print Inventory Report\n",
            "(5) Quit\n",
            "Enter choice: 1\n",
            "Enter product id : 1002\n",
            "Enter name : Milk Cake\n",
            "Enter price : 800\n",
            "Enter quantity : 100\n",
            "Enter y to continue or n to exit: y\n",
            "===============================\n",
            "= Inventory Management System =\n",
            "===============================\n",
            "(1) Add New Item\n",
            "(2) Selling Item\n",
            "(3) Print Inventory Report\n",
            "(4) Print Inventory Report\n",
            "(5) Quit\n",
            "Enter choice: 2\n",
            "Enter the product_Id: 1002\n",
            "Enter the quantity: 50\n",
            "Product:  Milk Cake\n",
            "Price:  800.0\n",
            "Billing Amount:  40000.0\n",
            "Please Visit Again \n",
            "Enter y to continue or n to exit: y\n",
            "===============================\n",
            "= Inventory Management System =\n",
            "===============================\n",
            "(1) Add New Item\n",
            "(2) Selling Item\n",
            "(3) Print Inventory Report\n",
            "(4) Print Inventory Report\n",
            "(5) Quit\n",
            "Enter choice: 3\n",
            "*********** ALL PRODUCTS **************\n",
            "Product Id\t Product Name\t Price\t Quantity\t\n",
            "1001 \t milk \t 45.0 \t 2 \t\n",
            "1002 \t Milk Cake \t 800.0 \t 50 \t\n",
            "1003 \t Drink \t 85 \t 100 \t\n",
            "1004 \t Candy \t 5 \t 1000 \t\n",
            "1005 \t Pen \t 20 \t 100 \t\n",
            "1006 \t Phone \t 50000 \t 10 \t\n",
            "1007 \t Mic \t 1500 \t 0 \t\n",
            "1008 \t Case \t 599 \t 5 \t\n",
            "1009 \t Keyboard \t 1999 \t 10 \t\n",
            "1010 \t Apple \t 45 \t 7 \t\n",
            "1011 \t Orange \t 56.89 \t 8 \t\n",
            "1012 \t Toy \t 67.0 \t 700 \t\n",
            "1013 \t Cloth \t 45.0 \t 0 \t\n",
            "1014 \t Poster \t 24.0 \t 56 \t\n",
            "1015 \t cream \t 43.0 \t 12 \t\n",
            "1016 \t milkshake \t 28.0 \t 47 \t\n",
            "Enter y to continue or n to exit: y\n",
            "===============================\n",
            "= Inventory Management System =\n",
            "===============================\n",
            "(1) Add New Item\n",
            "(2) Selling Item\n",
            "(3) Print Inventory Report\n",
            "(4) Print Inventory Report\n",
            "(5) Quit\n",
            "Enter choice: 4\n",
            "************SOLD PRODUCTS***************\n",
            "Product Id\t Product Name\t Price\t Quantity\t\n",
            "1 \t Choco Cake \t 100 \t 26 \t\n",
            "2 \t Choco Cake \t 100 \t 25 \t\n",
            "3 \t Milk \t 56.78 \t 1 \t\n",
            "4 \t Toy \t 67.0 \t 89 \t\n",
            "5 \t Cloth \t 45.0 \t 89 \t\n",
            "6 \t Milk \t 56.78 \t 89 \t\n",
            "7 \t Milk \t 78.0 \t 2 \t\n",
            "8 \t Milk \t 78.0 \t 2 \t\n",
            "9 \t Milk \t 78.0 \t 2 \t\n",
            "10 \t milkshake \t 28.0 \t 23 \t\n",
            "11 \t milkshake \t 28.0 \t 23 \t\n",
            "12 \t Milk Cake \t 800.0 \t 50 \t\n"
          ]
        }
      ]
    },
    {
      "cell_type": "code",
      "metadata": {
        "id": "gle0bOPV-AuQ"
      },
      "source": [
        ""
      ],
      "execution_count": null,
      "outputs": []
    }
  ]
}